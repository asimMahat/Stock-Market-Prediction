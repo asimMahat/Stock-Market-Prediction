{
 "cells": [
  {
   "cell_type": "code",
   "execution_count": 1,
   "id": "b6bb4080-a8cd-4cd0-a609-0e56dfea00b8",
   "metadata": {},
   "outputs": [
    {
     "name": "stderr",
     "output_type": "stream",
     "text": [
      "/Users/asimmahat/.local/share/virtualenvs/stock_market_prediction-uzxGUPKk/lib/python3.9/site-packages/urllib3/__init__.py:35: NotOpenSSLWarning: urllib3 v2 only supports OpenSSL 1.1.1+, currently the 'ssl' module is compiled with 'LibreSSL 2.8.3'. See: https://github.com/urllib3/urllib3/issues/3020\n",
      "  warnings.warn(\n"
     ]
    }
   ],
   "source": [
    "# Importing modules\n",
    "\n",
    "import pandas as pd\n",
    "import numpy as np\n",
    "from tensorflow.keras.models import Sequential\n",
    "from tensorflow.keras.layers import LSTM, Dense, Dropout\n",
    "import matplotlib.pyplot as plt\n",
    "from sklearn.preprocessing import MinMaxScaler"
   ]
  },
  {
   "cell_type": "code",
   "execution_count": 2,
   "id": "5d8407d1-626c-4241-88ec-9eb211095e03",
   "metadata": {},
   "outputs": [
    {
     "name": "stdout",
     "output_type": "stream",
     "text": [
      "                        Date      Open      High       Low     Close  Volume  \\\n",
      "0  1962-01-02 00:00:00-05:00  1.530517  1.530517  1.513320  1.513320  407940   \n",
      "1  1962-01-03 00:00:00-05:00  1.513320  1.526548  1.513320  1.526548  305955   \n",
      "2  1962-01-04 00:00:00-05:00  1.526548  1.526548  1.510674  1.511336  274575   \n",
      "3  1962-01-05 00:00:00-05:00  1.509353  1.509353  1.478927  1.481573  384405   \n",
      "4  1962-01-08 00:00:00-05:00  1.480251  1.480251  1.441889  1.453794  572685   \n",
      "\n",
      "   Dividends  Stock Splits  \n",
      "0        0.0           0.0  \n",
      "1        0.0           0.0  \n",
      "2        0.0           0.0  \n",
      "3        0.0           0.0  \n",
      "4        0.0           0.0  \n"
     ]
    }
   ],
   "source": [
    "file_path = 'dataset/ibm.csv'  \n",
    "data = pd.read_csv(file_path)\n",
    "\n",
    "print(data.head())"
   ]
  },
  {
   "cell_type": "markdown",
   "id": "56dade49-e65a-4dcf-b36e-04b088d773c6",
   "metadata": {},
   "source": [
    "#### Data preprocessing "
   ]
  },
  {
   "cell_type": "code",
   "execution_count": 3,
   "id": "57cd2645-dda3-4414-a651-14148450f355",
   "metadata": {},
   "outputs": [
    {
     "name": "stdout",
     "output_type": "stream",
     "text": [
      "                        Date      Open      High       Low     Close  Volume\n",
      "0  1962-01-02 00:00:00-05:00  1.530517  1.530517  1.513320  1.513320  407940\n",
      "1  1962-01-03 00:00:00-05:00  1.513320  1.526548  1.513320  1.526548  305955\n",
      "2  1962-01-04 00:00:00-05:00  1.526548  1.526548  1.510674  1.511336  274575\n",
      "3  1962-01-05 00:00:00-05:00  1.509353  1.509353  1.478927  1.481573  384405\n",
      "4  1962-01-08 00:00:00-05:00  1.480251  1.480251  1.441889  1.453794  572685\n"
     ]
    },
    {
     "name": "stderr",
     "output_type": "stream",
     "text": [
      "/var/folders/pm/789pwcn13sv2z1_3b5spk1fw0000gn/T/ipykernel_1119/2156123366.py:4: FutureWarning: In a future version of pandas, parsing datetimes with mixed time zones will raise an error unless `utc=True`. Please specify `utc=True` to opt in to the new behaviour and silence this warning. To create a `Series` with mixed offsets and `object` dtype, please use `apply` and `datetime.datetime.strptime`\n",
      "  data_filtered['Date'] = pd.to_datetime(data_filtered['Date'])\n",
      "/var/folders/pm/789pwcn13sv2z1_3b5spk1fw0000gn/T/ipykernel_1119/2156123366.py:4: SettingWithCopyWarning: \n",
      "A value is trying to be set on a copy of a slice from a DataFrame.\n",
      "Try using .loc[row_indexer,col_indexer] = value instead\n",
      "\n",
      "See the caveats in the documentation: https://pandas.pydata.org/pandas-docs/stable/user_guide/indexing.html#returning-a-view-versus-a-copy\n",
      "  data_filtered['Date'] = pd.to_datetime(data_filtered['Date'])\n"
     ]
    }
   ],
   "source": [
    "data_filtered = data[['Date', 'Open', 'High', 'Low', 'Close', 'Volume']]\n",
    "\n",
    "# Convert 'Date' to datetime format\n",
    "data_filtered['Date'] = pd.to_datetime(data_filtered['Date'])\n",
    "\n",
    "# Sort data by Date if necessary\n",
    "data_filtered = data_filtered.sort_values(by='Date')\n",
    "\n",
    "# Display the cleaned dataset\n",
    "print(data_filtered.head())"
   ]
  },
  {
   "cell_type": "code",
   "execution_count": 4,
   "id": "0c0d1571-265e-40d6-abed-f82e6313ea2d",
   "metadata": {},
   "outputs": [],
   "source": [
    "# Save the cleaned dataset to a new CSV file if needed\n",
    "data_filtered.to_csv('dataset/cleaned_ibm_data.csv', index=False)"
   ]
  },
  {
   "cell_type": "code",
   "execution_count": 5,
   "id": "1072a5b9-0ecf-458c-897e-f208d0b5bfe7",
   "metadata": {},
   "outputs": [],
   "source": [
    "# data_filtered"
   ]
  },
  {
   "cell_type": "code",
   "execution_count": 6,
   "id": "cea49780-f95b-4fcd-8449-2056ead50a9a",
   "metadata": {},
   "outputs": [],
   "source": [
    "data_cleaned = data_filtered.dropna()"
   ]
  },
  {
   "cell_type": "code",
   "execution_count": 7,
   "id": "36f0c7b4-dad7-4a1a-be5e-de93c4116d5f",
   "metadata": {},
   "outputs": [],
   "source": [
    "# data_cleaned \n",
    "\n",
    "# initial result -- no null values"
   ]
  },
  {
   "cell_type": "code",
   "execution_count": 8,
   "id": "3fc705e5-6143-4cee-a10f-5bf30519f68b",
   "metadata": {},
   "outputs": [
    {
     "data": {
      "text/html": [
       "<div>\n",
       "<style scoped>\n",
       "    .dataframe tbody tr th:only-of-type {\n",
       "        vertical-align: middle;\n",
       "    }\n",
       "\n",
       "    .dataframe tbody tr th {\n",
       "        vertical-align: top;\n",
       "    }\n",
       "\n",
       "    .dataframe thead th {\n",
       "        text-align: right;\n",
       "    }\n",
       "</style>\n",
       "<table border=\"1\" class=\"dataframe\">\n",
       "  <thead>\n",
       "    <tr style=\"text-align: right;\">\n",
       "      <th></th>\n",
       "      <th>Date</th>\n",
       "      <th>Open</th>\n",
       "      <th>High</th>\n",
       "      <th>Low</th>\n",
       "      <th>Close</th>\n",
       "      <th>Volume</th>\n",
       "    </tr>\n",
       "  </thead>\n",
       "  <tbody>\n",
       "    <tr>\n",
       "      <th>0</th>\n",
       "      <td>1962-01-02 00:00:00-05:00</td>\n",
       "      <td>1.530517</td>\n",
       "      <td>1.530517</td>\n",
       "      <td>1.513320</td>\n",
       "      <td>1.513320</td>\n",
       "      <td>407940</td>\n",
       "    </tr>\n",
       "    <tr>\n",
       "      <th>1</th>\n",
       "      <td>1962-01-03 00:00:00-05:00</td>\n",
       "      <td>1.513320</td>\n",
       "      <td>1.526548</td>\n",
       "      <td>1.513320</td>\n",
       "      <td>1.526548</td>\n",
       "      <td>305955</td>\n",
       "    </tr>\n",
       "    <tr>\n",
       "      <th>2</th>\n",
       "      <td>1962-01-04 00:00:00-05:00</td>\n",
       "      <td>1.526548</td>\n",
       "      <td>1.526548</td>\n",
       "      <td>1.510674</td>\n",
       "      <td>1.511336</td>\n",
       "      <td>274575</td>\n",
       "    </tr>\n",
       "    <tr>\n",
       "      <th>3</th>\n",
       "      <td>1962-01-05 00:00:00-05:00</td>\n",
       "      <td>1.509353</td>\n",
       "      <td>1.509353</td>\n",
       "      <td>1.478927</td>\n",
       "      <td>1.481573</td>\n",
       "      <td>384405</td>\n",
       "    </tr>\n",
       "    <tr>\n",
       "      <th>4</th>\n",
       "      <td>1962-01-08 00:00:00-05:00</td>\n",
       "      <td>1.480251</td>\n",
       "      <td>1.480251</td>\n",
       "      <td>1.441889</td>\n",
       "      <td>1.453794</td>\n",
       "      <td>572685</td>\n",
       "    </tr>\n",
       "  </tbody>\n",
       "</table>\n",
       "</div>"
      ],
      "text/plain": [
       "                        Date      Open      High       Low     Close  Volume\n",
       "0  1962-01-02 00:00:00-05:00  1.530517  1.530517  1.513320  1.513320  407940\n",
       "1  1962-01-03 00:00:00-05:00  1.513320  1.526548  1.513320  1.526548  305955\n",
       "2  1962-01-04 00:00:00-05:00  1.526548  1.526548  1.510674  1.511336  274575\n",
       "3  1962-01-05 00:00:00-05:00  1.509353  1.509353  1.478927  1.481573  384405\n",
       "4  1962-01-08 00:00:00-05:00  1.480251  1.480251  1.441889  1.453794  572685"
      ]
     },
     "execution_count": 8,
     "metadata": {},
     "output_type": "execute_result"
    }
   ],
   "source": [
    "# Load the cleaned dataset (after removing nulls and unnecessary columns)\n",
    "file_path = 'dataset/cleaned_ibm_data.csv'  # Your cleaned dataset file\n",
    "data = pd.read_csv(file_path)\n",
    "\n",
    "data.head()"
   ]
  },
  {
   "cell_type": "code",
   "execution_count": 9,
   "id": "67c67b6d-c46b-4893-819d-da8b5fa4f54d",
   "metadata": {},
   "outputs": [
    {
     "data": {
      "text/plain": [
       "array([[  1.51332045],\n",
       "       [  1.52654803],\n",
       "       [  1.51133561],\n",
       "       ...,\n",
       "       [219.3500061 ],\n",
       "       [219.72999573],\n",
       "       [221.49000549]])"
      ]
     },
     "execution_count": 9,
     "metadata": {},
     "output_type": "execute_result"
    }
   ],
   "source": [
    "# Prepare data: for Only 'Close' price is used for prediction\n",
    "data_close = data['Close'].values\n",
    "\n",
    "#creating column vector ( N rows and 1 column)\n",
    "data_close = data_close.reshape(-1, 1) \n",
    "\n",
    "data_close"
   ]
  },
  {
   "cell_type": "code",
   "execution_count": 10,
   "id": "bb2fbef1-d18e-4cf5-8bf2-3638af327afd",
   "metadata": {},
   "outputs": [],
   "source": [
    "# Normalize the data using MinMaxScaler \n",
    "\n",
    "scaler = MinMaxScaler(feature_range=(0, 1))\n",
    "data_scaled = scaler.fit_transform(data_close)"
   ]
  },
  {
   "cell_type": "code",
   "execution_count": 11,
   "id": "7f70baa2-234d-4ee8-9d20-f4623d6e712e",
   "metadata": {},
   "outputs": [
    {
     "data": {
      "text/plain": [
       "(15797, 1)"
      ]
     },
     "execution_count": 11,
     "metadata": {},
     "output_type": "execute_result"
    }
   ],
   "source": [
    "data_scaled.shape\n",
    "# the output means using 15797 rows of data with one feature that is \"closing price\""
   ]
  },
  {
   "cell_type": "markdown",
   "id": "44aad211-4a1a-40a8-90eb-672f0bf67b7f",
   "metadata": {},
   "source": [
    "The output (15797,1) means using 15797 rows of data with one feature that is \"closing price\""
   ]
  },
  {
   "cell_type": "code",
   "execution_count": 12,
   "id": "f324b071-72b8-41f4-b1a7-2ea6e167132d",
   "metadata": {},
   "outputs": [],
   "source": [
    "# #final check for null values\n",
    "# if np.isnan(data_scaled).any():\n",
    "#     raise ValueError(\"NaN values found in the dataset. Please clean the data.\")"
   ]
  },
  {
   "cell_type": "code",
   "execution_count": 13,
   "id": "c34472a9-6eff-436d-ac6f-e380eb04097b",
   "metadata": {},
   "outputs": [
    {
     "data": {
      "text/plain": [
       "15797"
      ]
     },
     "execution_count": 13,
     "metadata": {},
     "output_type": "execute_result"
    }
   ],
   "source": [
    "len(data_scaled)"
   ]
  },
  {
   "cell_type": "markdown",
   "id": "a9ef617d-4ddd-420d-8b42-f18634eef0a9",
   "metadata": {},
   "source": [
    "### Preparing data to feed into LSTM model"
   ]
  },
  {
   "cell_type": "code",
   "execution_count": 14,
   "id": "d9fdd33f-f912-44ea-a6d7-37262b40e134",
   "metadata": {},
   "outputs": [],
   "source": [
    "# Create a function to prepare sequences of data for LSTM\n",
    "# def create_sequences(data, time_step):\n",
    "#     X, y = [], []\n",
    "#     for i in range(len(data) - time_step - 1):\n",
    "#         X.append(data[i:(i + time_step), 0])\n",
    "#         y.append(data[i + time_step, 0])\n",
    "#     return np.array(X), np.array(y)"
   ]
  },
  {
   "cell_type": "code",
   "execution_count": 15,
   "id": "7fa94f9e-ca4d-43df-b93f-2727b79f1545",
   "metadata": {},
   "outputs": [],
   "source": [
    "import numpy as np\n",
    "\n",
    "def create_sequences(data, time_step):\n",
    "    X = np.array([data[i:i + time_step, 0] for i in range(len(data) - time_step - 1)])\n",
    "    y = np.array([data[i + time_step, 0] for i in range(len(data) - time_step - 1)])\n",
    "    return X, y\n"
   ]
  },
  {
   "cell_type": "code",
   "execution_count": 16,
   "id": "9e400a52-bb23-4ca6-b7d4-5060968fcf04",
   "metadata": {},
   "outputs": [],
   "source": [
    "time_step = 60\n",
    "\n",
    "X, y = create_sequences(data_scaled, time_step)\n",
    "\n",
    "# again making sure that the X and y are numpy array\n",
    "# X = np.array(X) \n",
    "# y = np.array(y)"
   ]
  },
  {
   "cell_type": "code",
   "execution_count": 17,
   "id": "ceed31fa-ba9a-4264-97be-d0e71a3cfcbd",
   "metadata": {},
   "outputs": [
    {
     "data": {
      "text/plain": [
       "(15736, 60)"
      ]
     },
     "execution_count": 17,
     "metadata": {},
     "output_type": "execute_result"
    }
   ],
   "source": [
    "X.shape"
   ]
  },
  {
   "cell_type": "code",
   "execution_count": 18,
   "id": "57500d5d-7e3d-4013-896e-9ebe84f000be",
   "metadata": {},
   "outputs": [
    {
     "data": {
      "text/plain": [
       "array([[0.00316013, 0.00321955, 0.00315122, ..., 0.00286391, 0.00286094,\n",
       "        0.00273911],\n",
       "       [0.00321955, 0.00315122, 0.00301752, ..., 0.00286094, 0.00273911,\n",
       "        0.00277477],\n",
       "       [0.00315122, 0.00301752, 0.00289274, ..., 0.00273911, 0.00277477,\n",
       "        0.00275694],\n",
       "       ...,\n",
       "       [0.78018095, 0.78739484, 0.78222932, ..., 0.99011771, 1.        ,\n",
       "        0.98836585],\n",
       "       [0.78739484, 0.78222932, 0.7882854 , ..., 1.        , 0.98836585,\n",
       "        0.98944395],\n",
       "       [0.78222932, 0.7882854 , 0.79037832, ..., 0.98836585, 0.98944395,\n",
       "        0.98167288]])"
      ]
     },
     "execution_count": 18,
     "metadata": {},
     "output_type": "execute_result"
    }
   ],
   "source": [
    "X"
   ]
  },
  {
   "cell_type": "code",
   "execution_count": 19,
   "id": "2b21da67-85c1-4513-ac88-1617db7afc11",
   "metadata": {},
   "outputs": [
    {
     "data": {
      "text/plain": [
       "(15736, 60, 1)"
      ]
     },
     "execution_count": 19,
     "metadata": {},
     "output_type": "execute_result"
    }
   ],
   "source": [
    "# Reshape the input to be [samples, time steps, features]\n",
    "\n",
    "X = X.reshape(X.shape[0], X.shape[1], 1)\n",
    "X.shape"
   ]
  },
  {
   "cell_type": "code",
   "execution_count": 20,
   "id": "188509ef-03dd-484e-8a30-addb9048d835",
   "metadata": {},
   "outputs": [
    {
     "data": {
      "text/plain": [
       "(15736, 60, 1)"
      ]
     },
     "execution_count": 20,
     "metadata": {},
     "output_type": "execute_result"
    }
   ],
   "source": [
    "X.shape"
   ]
  },
  {
   "cell_type": "code",
   "execution_count": 21,
   "id": "df3889c6-bf74-4221-986b-b8eaa4d49556",
   "metadata": {},
   "outputs": [
    {
     "data": {
      "text/plain": [
       "(15736,)"
      ]
     },
     "execution_count": 21,
     "metadata": {},
     "output_type": "execute_result"
    }
   ],
   "source": [
    "y.shape"
   ]
  },
  {
   "cell_type": "code",
   "execution_count": 22,
   "id": "a7ef5832-3cea-437d-bb2b-23f85b451db7",
   "metadata": {},
   "outputs": [
    {
     "name": "stdout",
     "output_type": "stream",
     "text": [
      "12588\n"
     ]
    }
   ],
   "source": [
    "# Split the data into training and test sets (80% train, 20% test)\n",
    "\n",
    "train_size = int(len(X) * 0.8)\n",
    "print(train_size)\n",
    "X_train, X_test = X[:train_size], X[train_size:]\n",
    "y_train, y_test = y[:train_size], y[train_size:]"
   ]
  },
  {
   "cell_type": "code",
   "execution_count": 23,
   "id": "52425f22-2c8d-44db-9343-709accdb70d9",
   "metadata": {},
   "outputs": [
    {
     "data": {
      "text/plain": [
       "(12588, 60, 1)"
      ]
     },
     "execution_count": 23,
     "metadata": {},
     "output_type": "execute_result"
    }
   ],
   "source": [
    "X_train.shape"
   ]
  },
  {
   "cell_type": "code",
   "execution_count": 24,
   "id": "1f86fb11-908a-41b1-9b8d-cdcbf9342f6c",
   "metadata": {},
   "outputs": [
    {
     "data": {
      "text/plain": [
       "(3148, 60, 1)"
      ]
     },
     "execution_count": 24,
     "metadata": {},
     "output_type": "execute_result"
    }
   ],
   "source": [
    "X_test.shape"
   ]
  },
  {
   "cell_type": "code",
   "execution_count": 25,
   "id": "398dd2fa-1b9c-4736-841e-24c87a99ad9b",
   "metadata": {},
   "outputs": [
    {
     "name": "stderr",
     "output_type": "stream",
     "text": [
      "/Users/asimmahat/.local/share/virtualenvs/stock_market_prediction-uzxGUPKk/lib/python3.9/site-packages/keras/src/layers/rnn/rnn.py:204: UserWarning: Do not pass an `input_shape`/`input_dim` argument to a layer. When using Sequential models, prefer using an `Input(shape)` object as the first layer in the model instead.\n",
      "  super().__init__(**kwargs)\n"
     ]
    }
   ],
   "source": [
    "# LSTM model \n",
    "model = Sequential()\n",
    "model.add(LSTM(units=50, return_sequences=True, input_shape=(time_step, 1)))\n",
    "model.add(Dropout(0.2)) \n",
    "model.add(LSTM(units=50, return_sequences=False))\n",
    "model.add(Dropout(0.2))\n",
    "model.add(Dense(units=25))\n",
    "model.add(Dense(units=1))"
   ]
  },
  {
   "cell_type": "code",
   "execution_count": 26,
   "id": "28c0ed30-09f4-445d-a28b-6d0c2f8dae5f",
   "metadata": {},
   "outputs": [],
   "source": [
    "# Compile the model\n",
    "model.compile(optimizer='adam', loss='mean_squared_error')"
   ]
  },
  {
   "cell_type": "code",
   "execution_count": 27,
   "id": "b0379c52-f8ce-4e82-bde1-14ad9f5adb73",
   "metadata": {},
   "outputs": [
    {
     "name": "stdout",
     "output_type": "stream",
     "text": [
      "Epoch 1/30\n",
      "\u001b[1m394/394\u001b[0m \u001b[32m━━━━━━━━━━━━━━━━━━━━\u001b[0m\u001b[37m\u001b[0m \u001b[1m6s\u001b[0m 12ms/step - loss: 0.0010\n",
      "Epoch 2/30\n",
      "\u001b[1m394/394\u001b[0m \u001b[32m━━━━━━━━━━━━━━━━━━━━\u001b[0m\u001b[37m\u001b[0m \u001b[1m5s\u001b[0m 13ms/step - loss: 1.4152e-04\n",
      "Epoch 3/30\n",
      "\u001b[1m394/394\u001b[0m \u001b[32m━━━━━━━━━━━━━━━━━━━━\u001b[0m\u001b[37m\u001b[0m \u001b[1m5s\u001b[0m 13ms/step - loss: 1.3890e-04\n",
      "Epoch 4/30\n",
      "\u001b[1m394/394\u001b[0m \u001b[32m━━━━━━━━━━━━━━━━━━━━\u001b[0m\u001b[37m\u001b[0m \u001b[1m5s\u001b[0m 13ms/step - loss: 1.2746e-04\n",
      "Epoch 5/30\n",
      "\u001b[1m394/394\u001b[0m \u001b[32m━━━━━━━━━━━━━━━━━━━━\u001b[0m\u001b[37m\u001b[0m \u001b[1m5s\u001b[0m 13ms/step - loss: 1.3545e-04\n",
      "Epoch 6/30\n",
      "\u001b[1m394/394\u001b[0m \u001b[32m━━━━━━━━━━━━━━━━━━━━\u001b[0m\u001b[37m\u001b[0m \u001b[1m5s\u001b[0m 13ms/step - loss: 1.3287e-04\n",
      "Epoch 7/30\n",
      "\u001b[1m394/394\u001b[0m \u001b[32m━━━━━━━━━━━━━━━━━━━━\u001b[0m\u001b[37m\u001b[0m \u001b[1m5s\u001b[0m 13ms/step - loss: 1.3090e-04\n",
      "Epoch 8/30\n",
      "\u001b[1m394/394\u001b[0m \u001b[32m━━━━━━━━━━━━━━━━━━━━\u001b[0m\u001b[37m\u001b[0m \u001b[1m5s\u001b[0m 13ms/step - loss: 1.3035e-04\n",
      "Epoch 9/30\n",
      "\u001b[1m394/394\u001b[0m \u001b[32m━━━━━━━━━━━━━━━━━━━━\u001b[0m\u001b[37m\u001b[0m \u001b[1m5s\u001b[0m 13ms/step - loss: 1.2329e-04\n",
      "Epoch 10/30\n",
      "\u001b[1m394/394\u001b[0m \u001b[32m━━━━━━━━━━━━━━━━━━━━\u001b[0m\u001b[37m\u001b[0m \u001b[1m5s\u001b[0m 13ms/step - loss: 1.1376e-04\n",
      "Epoch 11/30\n",
      "\u001b[1m394/394\u001b[0m \u001b[32m━━━━━━━━━━━━━━━━━━━━\u001b[0m\u001b[37m\u001b[0m \u001b[1m5s\u001b[0m 13ms/step - loss: 1.2364e-04\n",
      "Epoch 12/30\n",
      "\u001b[1m394/394\u001b[0m \u001b[32m━━━━━━━━━━━━━━━━━━━━\u001b[0m\u001b[37m\u001b[0m \u001b[1m5s\u001b[0m 13ms/step - loss: 1.2474e-04\n",
      "Epoch 13/30\n",
      "\u001b[1m394/394\u001b[0m \u001b[32m━━━━━━━━━━━━━━━━━━━━\u001b[0m\u001b[37m\u001b[0m \u001b[1m5s\u001b[0m 13ms/step - loss: 1.1784e-04\n",
      "Epoch 14/30\n",
      "\u001b[1m394/394\u001b[0m \u001b[32m━━━━━━━━━━━━━━━━━━━━\u001b[0m\u001b[37m\u001b[0m \u001b[1m5s\u001b[0m 13ms/step - loss: 1.3139e-04\n",
      "Epoch 15/30\n",
      "\u001b[1m394/394\u001b[0m \u001b[32m━━━━━━━━━━━━━━━━━━━━\u001b[0m\u001b[37m\u001b[0m \u001b[1m5s\u001b[0m 13ms/step - loss: 1.1020e-04\n",
      "Epoch 16/30\n",
      "\u001b[1m394/394\u001b[0m \u001b[32m━━━━━━━━━━━━━━━━━━━━\u001b[0m\u001b[37m\u001b[0m \u001b[1m5s\u001b[0m 13ms/step - loss: 1.2236e-04\n",
      "Epoch 17/30\n",
      "\u001b[1m394/394\u001b[0m \u001b[32m━━━━━━━━━━━━━━━━━━━━\u001b[0m\u001b[37m\u001b[0m \u001b[1m5s\u001b[0m 13ms/step - loss: 1.1779e-04\n",
      "Epoch 18/30\n",
      "\u001b[1m394/394\u001b[0m \u001b[32m━━━━━━━━━━━━━━━━━━━━\u001b[0m\u001b[37m\u001b[0m \u001b[1m5s\u001b[0m 13ms/step - loss: 1.2501e-04\n",
      "Epoch 19/30\n",
      "\u001b[1m394/394\u001b[0m \u001b[32m━━━━━━━━━━━━━━━━━━━━\u001b[0m\u001b[37m\u001b[0m \u001b[1m5s\u001b[0m 13ms/step - loss: 1.1365e-04\n",
      "Epoch 20/30\n",
      "\u001b[1m394/394\u001b[0m \u001b[32m━━━━━━━━━━━━━━━━━━━━\u001b[0m\u001b[37m\u001b[0m \u001b[1m5s\u001b[0m 13ms/step - loss: 1.1370e-04\n",
      "Epoch 21/30\n",
      "\u001b[1m394/394\u001b[0m \u001b[32m━━━━━━━━━━━━━━━━━━━━\u001b[0m\u001b[37m\u001b[0m \u001b[1m5s\u001b[0m 13ms/step - loss: 1.1335e-04\n",
      "Epoch 22/30\n",
      "\u001b[1m394/394\u001b[0m \u001b[32m━━━━━━━━━━━━━━━━━━━━\u001b[0m\u001b[37m\u001b[0m \u001b[1m5s\u001b[0m 14ms/step - loss: 1.2455e-04\n",
      "Epoch 23/30\n",
      "\u001b[1m394/394\u001b[0m \u001b[32m━━━━━━━━━━━━━━━━━━━━\u001b[0m\u001b[37m\u001b[0m \u001b[1m6s\u001b[0m 14ms/step - loss: 1.0547e-04\n",
      "Epoch 24/30\n",
      "\u001b[1m394/394\u001b[0m \u001b[32m━━━━━━━━━━━━━━━━━━━━\u001b[0m\u001b[37m\u001b[0m \u001b[1m5s\u001b[0m 14ms/step - loss: 1.1340e-04\n",
      "Epoch 25/30\n",
      "\u001b[1m394/394\u001b[0m \u001b[32m━━━━━━━━━━━━━━━━━━━━\u001b[0m\u001b[37m\u001b[0m \u001b[1m5s\u001b[0m 13ms/step - loss: 1.0531e-04\n",
      "Epoch 26/30\n",
      "\u001b[1m394/394\u001b[0m \u001b[32m━━━━━━━━━━━━━━━━━━━━\u001b[0m\u001b[37m\u001b[0m \u001b[1m5s\u001b[0m 13ms/step - loss: 1.0907e-04\n",
      "Epoch 27/30\n",
      "\u001b[1m394/394\u001b[0m \u001b[32m━━━━━━━━━━━━━━━━━━━━\u001b[0m\u001b[37m\u001b[0m \u001b[1m5s\u001b[0m 13ms/step - loss: 1.0890e-04\n",
      "Epoch 28/30\n",
      "\u001b[1m394/394\u001b[0m \u001b[32m━━━━━━━━━━━━━━━━━━━━\u001b[0m\u001b[37m\u001b[0m \u001b[1m5s\u001b[0m 13ms/step - loss: 1.1782e-04\n",
      "Epoch 29/30\n",
      "\u001b[1m394/394\u001b[0m \u001b[32m━━━━━━━━━━━━━━━━━━━━\u001b[0m\u001b[37m\u001b[0m \u001b[1m5s\u001b[0m 13ms/step - loss: 1.1222e-04\n",
      "Epoch 30/30\n",
      "\u001b[1m394/394\u001b[0m \u001b[32m━━━━━━━━━━━━━━━━━━━━\u001b[0m\u001b[37m\u001b[0m \u001b[1m5s\u001b[0m 13ms/step - loss: 1.1603e-04\n"
     ]
    },
    {
     "data": {
      "text/plain": [
       "<keras.src.callbacks.history.History at 0x30e976400>"
      ]
     },
     "execution_count": 27,
     "metadata": {},
     "output_type": "execute_result"
    }
   ],
   "source": [
    "# Train the model\n",
    "model.fit(X_train, y_train, batch_size=32, epochs=30)"
   ]
  },
  {
   "cell_type": "code",
   "execution_count": 28,
   "id": "a2edec3f-9955-4f10-a41c-2daba921eda4",
   "metadata": {},
   "outputs": [
    {
     "name": "stdout",
     "output_type": "stream",
     "text": [
      "\u001b[1m99/99\u001b[0m \u001b[32m━━━━━━━━━━━━━━━━━━━━\u001b[0m\u001b[37m\u001b[0m \u001b[1m0s\u001b[0m 4ms/step\n"
     ]
    }
   ],
   "source": [
    "# Predict stock prices on the test set\n",
    "predicted_stock_price = model.predict(X_test)\n"
   ]
  },
  {
   "cell_type": "code",
   "execution_count": 29,
   "id": "0f7d3dd4-bc3d-48ec-a030-a3c0e6b3ad8f",
   "metadata": {},
   "outputs": [],
   "source": [
    "# getting actual stock price by inverse transforming the actual predicted stock price \n",
    "\n",
    "predicted_stock_price_original = scaler.inverse_transform(predicted_stock_price)\n",
    "y_test_actual = scaler.inverse_transform(y_test.reshape(-1, 1))"
   ]
  },
  {
   "cell_type": "markdown",
   "id": "434d2a37-872b-4334-8ed8-d2f78b7726f6",
   "metadata": {},
   "source": [
    "#### Calculating Error Metrices (MSE, RMSE and MAE)"
   ]
  },
  {
   "cell_type": "code",
   "execution_count": 30,
   "id": "63a879b5-a390-4d0b-bfa8-d9a720314088",
   "metadata": {},
   "outputs": [
    {
     "name": "stdout",
     "output_type": "stream",
     "text": [
      "Mean Squared Error (MSE): 12.984950387167626\n",
      "Root Mean Squared Error (RMSE): 3.6034636653042065\n",
      "Mean Absolute Error (MAE): 113.74389572072363\n"
     ]
    }
   ],
   "source": [
    "# getting modules from sklearn\n",
    "from sklearn.metrics import mean_squared_error, mean_absolute_error\n",
    "\n",
    "# Mean Squared Error (MSE)\n",
    "mse = mean_squared_error(y_test_actual, predicted_stock_price_original)\n",
    "\n",
    "# Root Mean Squared Error (RMSE)\n",
    "rmse = np.sqrt(mse)\n",
    "\n",
    "# Mean Absolute Error (MAE)\n",
    "mae = mean_absolute_error(y_test_actual, predicted_stock_price)\n",
    "\n",
    "# Print the results\n",
    "print(f\"Mean Squared Error (MSE): {mse}\")\n",
    "print(f\"Root Mean Squared Error (RMSE): {rmse}\")\n",
    "print(f\"Mean Absolute Error (MAE): {mae}\")"
   ]
  },
  {
   "cell_type": "code",
   "execution_count": null,
   "id": "b3aa3447-7050-41ee-8c76-3491cdad7911",
   "metadata": {},
   "outputs": [],
   "source": []
  },
  {
   "cell_type": "code",
   "execution_count": null,
   "id": "f026eddb-3ba8-4286-8e16-fd954dba29a2",
   "metadata": {},
   "outputs": [],
   "source": []
  },
  {
   "cell_type": "code",
   "execution_count": 31,
   "id": "d17887c3-544b-47e7-9a2e-fcf19d5f120b",
   "metadata": {},
   "outputs": [],
   "source": [
    "#getting the actual date value before plotting\n",
    "# data['Date'] = pd.to_datetime(data['Date'])\n",
    "dates = data['Date'].values \n",
    "\n",
    "# train_dates = dates[:train_size] \n",
    "# test_dates = dates[train_size:]\n"
   ]
  },
  {
   "cell_type": "code",
   "execution_count": 32,
   "id": "db5f9c22-45c1-4601-9700-0767532fb6b4",
   "metadata": {},
   "outputs": [
    {
     "data": {
      "image/png": "[encoded data removed]",
      "text/plain": [
       "<Figure size 1400x700 with 1 Axes>"
      ]
     },
     "metadata": {},
     "output_type": "display_data"
    }
   ],
   "source": [
    "# Plot the results\n",
    "plt.figure(figsize=(14, 7))\n",
    "plt.plot(y_test_actual, color='blue', label='Actual IBM Stock Price')\n",
    "plt.plot(predicted_stock_price_original, color='red', label='Predicted IBM Stock Price')\n",
    "plt.title('IBM Stock Price Prediction using LSTM')\n",
    "plt.xlabel('Dates')\n",
    "plt.ylabel('Stock Price')\n",
    "plt.legend()\n",
    "plt.show()"
   ]
  },
  {
   "cell_type": "code",
   "execution_count": null,
   "id": "8ec7d1ae-b7be-439c-aa52-4f02101fafd2",
   "metadata": {},
   "outputs": [],
   "source": [
    "\n",
    "\n",
    "\n"
   ]
  },
  {
   "cell_type": "code",
   "execution_count": null,
   "id": "82df9f8e-c481-48ea-a9bd-5e2ee929d3a0",
   "metadata": {},
   "outputs": [],
   "source": []
  }
 ],
 "metadata": {
  "kernelspec": {
   "display_name": "Python 3 (ipykernel)",
   "language": "python",
   "name": "python3"
  },
  "language_info": {
   "codemirror_mode": {
    "name": "ipython",
    "version": 3
   },
   "file_extension": ".py",
   "mimetype": "text/x-python",
   "name": "python",
   "nbconvert_exporter": "python",
   "pygments_lexer": "ipython3",
   "version": "3.9.6"
  }
 },
 "nbformat": 4,
 "nbformat_minor": 5
}
