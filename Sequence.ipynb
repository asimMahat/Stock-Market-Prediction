{
 "cells": [
  {
   "cell_type": "code",
   "execution_count": 124,
   "id": "c007718e-ac08-4200-a1f3-fd657de70006",
   "metadata": {},
   "outputs": [],
   "source": [
    "import numpy as np\n",
    "scaled_data = [11,12,13,14,15,16,17,18,19,20,21]\n",
    "time_step = 4 "
   ]
  },
  {
   "cell_type": "code",
   "execution_count": 125,
   "id": "0df64b56-7b8a-44cd-8e32-1eec14dcaa0d",
   "metadata": {},
   "outputs": [],
   "source": [
    "X, y = [], []"
   ]
  },
  {
   "cell_type": "code",
   "execution_count": 126,
   "id": "86d81020-042e-44ea-bf41-cdcce101b77b",
   "metadata": {},
   "outputs": [
    {
     "data": {
      "text/plain": [
       "array([11, 12, 13, 14, 15, 16, 17, 18, 19, 20, 21])"
      ]
     },
     "execution_count": 126,
     "metadata": {},
     "output_type": "execute_result"
    }
   ],
   "source": [
    "len(scaled_data)\n",
    "scaled_data = np.array(scaled_data)\n",
    "scaled_data"
   ]
  },
  {
   "cell_type": "code",
   "execution_count": 127,
   "id": "e1c21580-c182-4907-84c3-af7071e2f32f",
   "metadata": {},
   "outputs": [
    {
     "data": {
      "text/plain": [
       "(11,)"
      ]
     },
     "execution_count": 127,
     "metadata": {},
     "output_type": "execute_result"
    }
   ],
   "source": [
    "scaled_data.shape"
   ]
  },
  {
   "cell_type": "code",
   "execution_count": 128,
   "id": "bb2f3f1b-5d9f-49c4-9c7c-fecc702231bd",
   "metadata": {},
   "outputs": [
    {
     "data": {
      "text/plain": [
       "11"
      ]
     },
     "execution_count": 128,
     "metadata": {},
     "output_type": "execute_result"
    }
   ],
   "source": [
    "len(scaled_data)"
   ]
  },
  {
   "cell_type": "code",
   "execution_count": 130,
   "id": "a10d84ac-fe2a-44d9-b2e5-60f330e0673a",
   "metadata": {},
   "outputs": [],
   "source": [
    "scaled_data = scaled_data.reshape(-1,1) # creates column vector, N row 1 columns"
   ]
  },
  {
   "cell_type": "code",
   "execution_count": 131,
   "id": "e5c7eb6a-68b5-46ba-896f-5b50573185bb",
   "metadata": {},
   "outputs": [
    {
     "data": {
      "text/plain": [
       "array([[11],\n",
       "       [12],\n",
       "       [13],\n",
       "       [14],\n",
       "       [15],\n",
       "       [16],\n",
       "       [17],\n",
       "       [18],\n",
       "       [19],\n",
       "       [20],\n",
       "       [21]])"
      ]
     },
     "execution_count": 131,
     "metadata": {},
     "output_type": "execute_result"
    }
   ],
   "source": [
    "scaled_data"
   ]
  },
  {
   "cell_type": "code",
   "execution_count": 132,
   "id": "0404a437-8dc1-40c6-9f0e-7cab9bcf133c",
   "metadata": {
    "scrolled": true
   },
   "outputs": [
    {
     "data": {
      "text/plain": [
       "(11, 1)"
      ]
     },
     "execution_count": 132,
     "metadata": {},
     "output_type": "execute_result"
    }
   ],
   "source": [
    "scaled_data.shape # signifies 7 rows and 1 column "
   ]
  },
  {
   "cell_type": "code",
   "execution_count": 133,
   "id": "bc6bbdba-7e81-456a-8a27-5b0c954c3683",
   "metadata": {},
   "outputs": [
    {
     "name": "stdout",
     "output_type": "stream",
     "text": [
      "0\n",
      "1\n",
      "2\n",
      "3\n",
      "4\n",
      "5\n"
     ]
    }
   ],
   "source": [
    "for i in range(len(scaled_data) - time_step - 1):\n",
    "    print(i)\n",
    "    X.append(scaled_data[i:(i + time_step),0])\n",
    "    y.append(scaled_data[i + time_step, 0])   "
   ]
  },
  {
   "cell_type": "code",
   "execution_count": 134,
   "id": "67aeab27-64da-4315-994e-d7d730967a80",
   "metadata": {},
   "outputs": [
    {
     "data": {
      "text/plain": [
       "[array([11, 12, 13, 14]),\n",
       " array([12, 13, 14, 15]),\n",
       " array([13, 14, 15, 16]),\n",
       " array([14, 15, 16, 17]),\n",
       " array([15, 16, 17, 18]),\n",
       " array([16, 17, 18, 19])]"
      ]
     },
     "execution_count": 134,
     "metadata": {},
     "output_type": "execute_result"
    }
   ],
   "source": [
    "X"
   ]
  },
  {
   "cell_type": "code",
   "execution_count": 135,
   "id": "ed861de7-9f08-44a9-8673-ed075255bb4f",
   "metadata": {},
   "outputs": [
    {
     "data": {
      "text/plain": [
       "6"
      ]
     },
     "execution_count": 135,
     "metadata": {},
     "output_type": "execute_result"
    }
   ],
   "source": [
    "len(X)"
   ]
  },
  {
   "cell_type": "code",
   "execution_count": 136,
   "id": "839640ce-2f2c-46ea-9873-6473e9c6edad",
   "metadata": {},
   "outputs": [],
   "source": [
    "X = np.array(X)"
   ]
  },
  {
   "cell_type": "code",
   "execution_count": 137,
   "id": "a9c904df-2c3d-49a9-a348-2671daf3aa27",
   "metadata": {},
   "outputs": [
    {
     "data": {
      "text/plain": [
       "array([[11, 12, 13, 14],\n",
       "       [12, 13, 14, 15],\n",
       "       [13, 14, 15, 16],\n",
       "       [14, 15, 16, 17],\n",
       "       [15, 16, 17, 18],\n",
       "       [16, 17, 18, 19]])"
      ]
     },
     "execution_count": 137,
     "metadata": {},
     "output_type": "execute_result"
    }
   ],
   "source": [
    "X"
   ]
  },
  {
   "cell_type": "code",
   "execution_count": 142,
   "id": "b2244907-ab57-4897-b2fb-9289f2459e9d",
   "metadata": {},
   "outputs": [
    {
     "data": {
      "text/plain": [
       "(6, 4)"
      ]
     },
     "execution_count": 142,
     "metadata": {},
     "output_type": "execute_result"
    }
   ],
   "source": [
    "X.shape"
   ]
  },
  {
   "cell_type": "code",
   "execution_count": 139,
   "id": "a8a5169b-bf6f-44c8-8c47-fcd2b3988d30",
   "metadata": {},
   "outputs": [
    {
     "data": {
      "text/plain": [
       "(6,)"
      ]
     },
     "execution_count": 139,
     "metadata": {},
     "output_type": "execute_result"
    }
   ],
   "source": [
    "y = np.array(y)\n",
    "y.shape"
   ]
  },
  {
   "cell_type": "code",
   "execution_count": 140,
   "id": "7f3122ad-d0b2-4e60-91ca-823b99c1d2f1",
   "metadata": {},
   "outputs": [
    {
     "data": {
      "text/plain": [
       "array([15, 16, 17, 18, 19, 20])"
      ]
     },
     "execution_count": 140,
     "metadata": {},
     "output_type": "execute_result"
    }
   ],
   "source": [
    "y"
   ]
  },
  {
   "cell_type": "code",
   "execution_count": null,
   "id": "a3f173df-89c2-4919-af6d-5aa50feb9914",
   "metadata": {},
   "outputs": [],
   "source": []
  }
 ],
 "metadata": {
  "kernelspec": {
   "display_name": "Python 3 (ipykernel)",
   "language": "python",
   "name": "python3"
  },
  "language_info": {
   "codemirror_mode": {
    "name": "ipython",
    "version": 3
   },
   "file_extension": ".py",
   "mimetype": "text/x-python",
   "name": "python",
   "nbconvert_exporter": "python",
   "pygments_lexer": "ipython3",
   "version": "3.9.6"
  }
 },
 "nbformat": 4,
 "nbformat_minor": 5
}
