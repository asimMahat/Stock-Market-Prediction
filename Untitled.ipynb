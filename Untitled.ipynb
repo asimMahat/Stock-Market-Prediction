{
 "cells": [
  {
   "cell_type": "code",
   "execution_count": 33,
   "id": "4b2b84e1-52f8-44e9-b607-4a528c239d0d",
   "metadata": {},
   "outputs": [
    {
     "name": "stdout",
     "output_type": "stream",
     "text": [
      "[1 2 3]\n",
      "[2 3 4]\n",
      "[3 4 5]\n"
     ]
    }
   ],
   "source": [
    "import numpy as np\n",
    "\n",
    "x = [1,2,3,4,5]\n",
    "\n",
    "x = np.array(x)\n",
    "\n",
    "y = x[0:3]\n",
    "print(y)\n",
    "\n",
    "y1 = x[1:4]\n",
    "print(y1)\n",
    "\n",
    "y2 = x[2:5]\n",
    "print(y2)"
   ]
  },
  {
   "cell_type": "code",
   "execution_count": 27,
   "id": "a8320d94-54de-4a97-8bf1-f5e05c84d844",
   "metadata": {},
   "outputs": [
    {
     "data": {
      "text/plain": [
       "array([1, 2, 3, 4, 5])"
      ]
     },
     "execution_count": 27,
     "metadata": {},
     "output_type": "execute_result"
    }
   ],
   "source": [
    "x"
   ]
  },
  {
   "cell_type": "code",
   "execution_count": 37,
   "id": "0b4bf981-7bc5-4e9e-8ffd-d0d432ff80c2",
   "metadata": {},
   "outputs": [],
   "source": [
    "x = x.reshape(1,-1)"
   ]
  },
  {
   "cell_type": "code",
   "execution_count": 38,
   "id": "8345a2f4-4c5c-4dd7-b108-21c5df688afd",
   "metadata": {},
   "outputs": [
    {
     "data": {
      "text/plain": [
       "array([[1, 2, 3, 4, 5]])"
      ]
     },
     "execution_count": 38,
     "metadata": {},
     "output_type": "execute_result"
    }
   ],
   "source": [
    "x"
   ]
  },
  {
   "cell_type": "code",
   "execution_count": 29,
   "id": "080ba6f9-10b0-434d-818b-bb4f0e24aba4",
   "metadata": {},
   "outputs": [
    {
     "data": {
      "text/plain": [
       "[array([1])]"
      ]
     },
     "execution_count": 29,
     "metadata": {},
     "output_type": "execute_result"
    }
   ],
   "source": [
    "\n",
    "X = []\n",
    "y = []\n",
    "\n",
    "X.append(x[0:3, 0])\n",
    "X"
   ]
  },
  {
   "cell_type": "code",
   "execution_count": 30,
   "id": "b18e7384-d996-473c-ba69-e1f2aff94ba8",
   "metadata": {},
   "outputs": [],
   "source": [
    "X.append(x[1:3, 0])\n",
    "y = "
   ]
  },
  {
   "cell_type": "code",
   "execution_count": 31,
   "id": "dae2ff03-c028-4220-ac7f-81b884bd997b",
   "metadata": {},
   "outputs": [
    {
     "data": {
      "text/plain": [
       "[array([1]), array([], dtype=int64)]"
      ]
     },
     "execution_count": 31,
     "metadata": {},
     "output_type": "execute_result"
    }
   ],
   "source": [
    "X"
   ]
  },
  {
   "cell_type": "code",
   "execution_count": null,
   "id": "27c46d1a-5cf8-4c80-a228-827899854b27",
   "metadata": {},
   "outputs": [],
   "source": []
  },
  {
   "cell_type": "code",
   "execution_count": null,
   "id": "76f0ce6d-bba5-41db-ac8c-d1918467e06c",
   "metadata": {},
   "outputs": [],
   "source": []
  }
 ],
 "metadata": {
  "kernelspec": {
   "display_name": "Python 3 (ipykernel)",
   "language": "python",
   "name": "python3"
  },
  "language_info": {
   "codemirror_mode": {
    "name": "ipython",
    "version": 3
   },
   "file_extension": ".py",
   "mimetype": "text/x-python",
   "name": "python",
   "nbconvert_exporter": "python",
   "pygments_lexer": "ipython3",
   "version": "3.9.6"
  }
 },
 "nbformat": 4,
 "nbformat_minor": 5
}
